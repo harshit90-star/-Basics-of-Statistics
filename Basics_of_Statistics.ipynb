{
  "nbformat": 4,
  "nbformat_minor": 0,
  "metadata": {
    "colab": {
      "provenance": []
    },
    "kernelspec": {
      "name": "python3",
      "display_name": "Python 3"
    },
    "language_info": {
      "name": "python"
    }
  },
  "cells": [
    {
      "cell_type": "markdown",
      "source": [
        "1. Explain the different types of data (qualitative and quantitative) and provide examples of each. Discuss nominal, ordinal, interval, and ratio scales.\n",
        "   - Qualitative data refers to descriptive, non-numerical information like opinions, feelings, or observations, while quantitative data is numerical and can be measured precisely, like height, weight, or age.\n",
        "   - Examples of Qualitative data include interview transcripts, customer feedback comments, and color descriptions, whereas\n",
        "   - Example of Quantitative data include test scores, sales figures, and temperature readings.\n",
        "   - Nominal Scale:- Data is categorized into distinct groups with no inherent order or ranking between categories.\n",
        "   - Ordinal Scale:- Data can be categorized and ranked in a specific order, but the distance between categories is not necessarily equal.\n",
        "   - Interval Scale:- Data can be categorized, ranked, and the intervals between each point on the scale are consistent, but there is no true zero point.\n",
        "   - Ratio Scale:- Data can be categorized, ranked, has equal intervals, and includes a true zero point, allowing for meaningful ratios between values.\n",
        "\n",
        "2.  What are the measures of central tendency, and when should you use each? Discuss the mean, median, and mode with examples and situations where each is appropriate.\n",
        "  - The three most common measures of central tendency are the mean, median, and mode. They are used to describe the middle or typical value of a set of data.\n",
        "  - Mean, median, and mode are ways to describe the average of a set of numbers. They are also known as measures of central tendency.\n",
        "  - Mean\n",
        "        The average of a set of numbers to calculate the mean, add all the numbers in the set and divide by the number of numbers\n",
        "  - For example, the mean of 4, 1, and 7 is (4 + 1 + 7) / 3 = 4\n",
        "  - Median\n",
        "        The middle number in a set of numbers when ordered from least to greatest. If there are two middle numbers, take the average of those two numbers\n",
        "  - For example, the median of 1, 3, 4 is 3 because it is the middle number when the numbers are put in order\n",
        "  - Mode\n",
        "        The number that occurs most often in a set of numbers\n",
        "  - For example, the mode of 1, 3, 4, 4, 4 is 4 because it occurs more than any other number.\n",
        "\n",
        "3. Explain the concept of dispersion. How do variance and standard deviation measure the spread of data?\n",
        "  - Dispersion is a statistical term that describes how spread out data is. It's also known as variability, scatter, or spread.  \n",
        "  - Variance and standard deviation measure the spread of data by calculating how far apart the data points are from the mean, with a larger variance or standard deviation indicating a wider spread of data and a smaller value signifying data points closer to the mean; importantly, standard deviation is simply the square root of the variance, meaning they both convey the same information but with different units.\n",
        "\n",
        "4. What is a box plot, and what can it tell you about the distribution of data?\n",
        "  - A boxplot is a graph that gives a visual indication of how a data set's 25th percentile, 50th percentile, 75th percentile, minimum, maximum and outlier values are spread out and compare to each other.\n",
        "\n",
        "5. Discuss the role of random sampling in making inferences about populations.\n",
        "  - Random sampling plays a crucial role in making inferences about populations by ensuring that a selected sample is representative of the larger population, thus allowing researchers to draw reliable conclusions about the population characteristics based on the data collected from that sample, minimizing bias and providing a strong foundation for statistical analysis and inference.\n",
        "\n",
        "6. Explain the concept of skewness and its types. How does skewness affect the interpretation of data?\n",
        "  - Skewness is a statistical measurement of how asymmetrical a distribution is. The three types of skewness are positive, negative, and zero. The tail on the left side (the smaller values) is longer and often contains outliers. The majority of data points are concentrated on the right side. The mean is typically less than the median.\n",
        "\n",
        "7. What is the interquartile range (IQR), and how is it used to detect outliers?\n",
        "  - The IQR method of outlier detection is a method that dictates that any data point in a boxplot that's more than 1.5 IQR points below the first quartile data or more than 1.5 IQR points above the third quartile data is considered an outlier.\n",
        "\n",
        "8. Discuss the conditions under which the binomial distribution is used.\n",
        "  - The binomial distribution is used when there are exactly two possible outcomes for each trial, and the probability of success is constant. The binomial distribution can be used to model the probabilities of occurrences in many areas, including business, finance, banking, and insurance.\n",
        "\n",
        "9. Explain the properties of the normal distribution and the empirical rule (68-95-99.7 rule).\n",
        "  - The normal distribution, often visualized as a bell-shaped curve, is a probability distribution where most data points cluster around the mean, with progressively fewer values falling further away from the mean; the \"empirical rule\" (or \"68-95-99.7 rule\") states that in a normal distribution, roughly 68% of data falls within one standard deviation of the mean, 95% falls within two standard deviations, and 99.7% falls within three standard deviations of the mean.\n",
        "\n",
        "10.  Provide a real-life example of a Poisson process and calculate the probability for a specific event.\n",
        "  - A real-life example of a Poisson process is the number of phone calls received by a call center per hour, where the average call rate is known to be, say, 5 calls per hour; to calculate the probability of receiving exactly 2 calls in a given hour, you would use the Poisson distribution with λ (average rate) = 5 and k (desired event) = 2, resulting in a probability of approximately 0.084 (or 8.4%).\n",
        "\n",
        "11. Explain what a random variable is and differentiate between discrete and continuous random variables.\n",
        "  - A \"random variable\" is a variable that takes on a numerical value based on the outcome of a random experiment, essentially assigning a number to each possible result in a given situation; it can be classified as either \"discrete\" (having a countable number of possible values) or \"continuous\" (capable of taking any value within a specific range) depending on the nature of the experiment.\n",
        "\n",
        "12. Provide an example dataset, calculate both covariance and correlation, and interpret the results.\n",
        "  - Let's take a sample dataset where we examine the relationship between \"hours studied\" (X) and \"exam score\" (Y) for 5 students:\n",
        "| Student | Hours Studied (X) | Exam Score (Y) |\n",
        "|---|---|---|\n",
        "| 1 | 2 | 65 |\n",
        "| 2 | 5 | 80 |\n",
        "| 3 | 3 | 70 |\n",
        "| 4 | 1 | 55 |\n",
        "| 5 | 4 | 85 |\n",
        "  - Calculating Covariance:\n",
        "      First, calculate the mean of each variable:\n",
        "      Mean of X (hours studied) = (2 + 5 + 3 + 1 + 4) / 5 = 3\n",
        "      Mean of Y (exam score) = (65 + 80 + 70 + 55 + 85) / 5 = 71\n",
        "      Covariance = [(2-3)(65-71) + (5-3)(80-71) + (3-3)(70-71) + (1-3)(55-71) + (4-3)*(85-71)] / 5\n",
        "      Covariance = [(-1)(-6) + (2)(9) + (0)(-1) + (-2)(-16) + (1)*(14)] / 5\n",
        "      Covariance = 20.8\n",
        "  - Calculating Correlation:\n",
        "      To calculate the correlation, we also need the standard deviation of each variable:\n",
        "      Standard deviation of X = sqrt(((2-3)**2 + (5-3)**2 + (3-3)**2 + (1-3)**2 + (4-3)**2) / 5) = 1.58\n",
        "      Standard deviation of Y = sqrt(((65-71)**2 + (80-71)**2 + (70-71)**2 + (55-71)**2 + (85-71)**2) / 5) = 11.18\n",
        "      Correlation = Covariance / (Standard Deviation of X * Standard Deviation of Y)\n",
        "      Correlation = 20.8 / (1.58 * 11.18) = 0.98\n",
        "  - Interpretation:\n",
        "  - Positive Covariance:\n",
        "        The positive value of the covariance (20.8) indicates that when the number of hours studied (X) increases, the exam score (Y) tends to increase as well, meaning there is a positive relationship between the two variables.\n",
        "  - High Correlation:\n",
        "        The correlation coefficient of 0.98 is very close to 1, signifying a strong positive linear relationship between hours studied and exam score. This means that as the number of hours studied increases, the exam score is highly likely to also increase significantly."
      ],
      "metadata": {
        "id": "kfRpq_PYaPGI"
      }
    },
    {
      "cell_type": "code",
      "source": [],
      "metadata": {
        "id": "UaeN0ETecmOD"
      },
      "execution_count": null,
      "outputs": []
    }
  ]
}